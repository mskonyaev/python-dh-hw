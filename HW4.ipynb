{
 "cells": [
  {
   "cell_type": "markdown",
   "metadata": {},
   "source": [
    "# ДЗ4\n",
    "## Задание 1\n",
    "Очистите текст от пунктуации, приведите его к нижнему регистру, лемматизируйте и запишите в новый файл. Проверьте, выполняется ли здесь закон Ципфа. Для этого постройте линейную диаграмму, где по оси Х будет ранг (порядковый номер) слова в отсортированном по убыванию частотном словаре, а по оси Y - относительная частота (абсолютная частота, разделенная на количество слов в тексте). Т.е. у самого частотного слова будет ранг 1, у второго по частоте -- 2 и т.д."
   ]
  },
  {
   "cell_type": "code",
   "execution_count": 30,
   "metadata": {},
   "outputs": [
    {
     "name": "stdout",
     "output_type": "stream",
     "text": [
      "showing info https://raw.githubusercontent.com/nltk/nltk_data/gh-pages/index.xml\n"
     ]
    },
    {
     "data": {
      "text/plain": [
       "True"
      ]
     },
     "execution_count": 30,
     "metadata": {},
     "output_type": "execute_result"
    }
   ],
   "source": [
    "import nltk\n",
    "nltk.download()"
   ]
  },
  {
   "cell_type": "code",
   "execution_count": 27,
   "metadata": {},
   "outputs": [],
   "source": [
    "# импортируем модули\n",
    "from pymystem3 import Mystem \n",
    "from string import punctuation\n",
    "import matplotlib\n",
    "import matplotlib.pyplot as plt\n",
    "from nltk import WordNetLemmatizer\n",
    "wnl = WordNetLemmatizer()\n",
    "from nltk.tokenize import word_tokenize\n",
    "\n",
    "# сохранение лемматизированного текста в отдельный файл и проверка на закон Ципфа\n",
    "all_text = []\n",
    "lemmas = []\n",
    "punct = \"!\\\"#$%&'()*+,-./:;<=>?@[\\]^_`{|}~„“«»†*—/\\-\"\n",
    "with open('Harry_potter.txt', 'r', encoding = 'utf-8') as hp:\n",
    "    # очищаем текст от пунктуации и приводим к нижнму регистру\n",
    "    for line in hp:\n",
    "        # очищаем от тире (в тексте они не отделены пробелами от соседних слов, поэтому приходится делать это на этой стадии)\n",
    "        new_line = list(line)\n",
    "        line = []\n",
    "        for x in new_line:\n",
    "            if x == \"—\": line.append(\" \")\n",
    "            else: line.append(x)\n",
    "        # очищаем от остальной пунктуации\n",
    "        ## соединяем буквы в слова\n",
    "        line = \"\".join(line)\n",
    "        line = line.split()\n",
    "        # удаляем пунктуацию\n",
    "        for a in line:\n",
    "            a = a.strip(punct)              \n",
    "            a = a.lower()\n",
    "            all_text.append(a)\n",
    "all_text = \" \".join(all_text)\n",
    "# лемматизация (Оксана сказала пользоваться лемматизатором NLTK без подачи части речи после токенизации)\n",
    "for line in word_tokenize(all_text):\n",
    "    lemmatized_line = wnl.lemmatize(line)\n",
    "    lemmas.append(lemmatized_line) \n",
    "# запись лемм в новый файл\n",
    "lemmas = \" \".join(lemmas)\n",
    "with open('Lemmatized_Harry_Potter.txt', 'w', encoding = 'utf-8') as lhp:\n",
    "    lhp.write(lemmas)"
   ]
  },
  {
   "cell_type": "code",
   "execution_count": 28,
   "metadata": {
    "scrolled": true
   },
   "outputs": [
    {
     "data": {
      "image/png": "[encoded data removed]",
      "text/plain": [
       "<Figure size 432x288 with 1 Axes>"
      ]
     },
     "metadata": {},
     "output_type": "display_data"
    }
   ],
   "source": [
    "# проверка закона Ципфа\n",
    "prepared_text = []\n",
    "with open('Lemmatized_Harry_Potter.txt', 'r', encoding = 'utf-8') as lhp:\n",
    "    for line in lhp:\n",
    "        line = line.split()\n",
    "        for word in line:\n",
    "            prepared_text.append(word)\n",
    "# сортируем слова\n",
    "counts = {}\n",
    "for word in prepared_text:\n",
    "    counts[word] = counts.get(word, 0) + 1\n",
    "sorted_counts = sorted(counts.items(), key=lambda x: x[1], reverse=True)\n",
    "# делаем график\n",
    "c = 0\n",
    "ranges = []\n",
    "quantity = []\n",
    "for line in sorted_counts:\n",
    "    c += 1\n",
    "    ranges.append(c)\n",
    "    quantity.append(line[1]/len(sorted_counts))\n",
    "plt.plot(ranges, quantity, c ='red')\n",
    "plt.title(\"Zipf's law in Harry Potter\")\n",
    "plt.xlabel(\"Ranges\")\n",
    "plt.ylabel(\"Quantity\")\n",
    "plt.show()"
   ]
  },
  {
   "cell_type": "markdown",
   "metadata": {},
   "source": [
    "## Задание 2\n",
    "Очистите текст от стоп-слов. Постройте barplot для 30 самых частотных слов. Эти слова должны быть по оси Х в виде подписей к делениям. Значениями по этой оси будет ряд чисел от 0 до 30."
   ]
  },
  {
   "cell_type": "code",
   "execution_count": 29,
   "metadata": {},
   "outputs": [
    {
     "data": {
      "image/png": "[encoded data removed]",
      "text/plain": [
       "<Figure size 432x288 with 1 Axes>"
      ]
     },
     "metadata": {},
     "output_type": "display_data"
    }
   ],
   "source": [
    "# из файла с леммами достаем список лемм\n",
    "prepared_text = []\n",
    "with open('Lemmatized_Harry_Potter.txt', 'r', encoding = 'utf-8') as lhp:\n",
    "    for line in lhp:\n",
    "        line = line.split()\n",
    "        for word in line:\n",
    "            prepared_text.append(word)\n",
    "# удаляем стоп-слова\n",
    "from nltk.corpus import stopwords\n",
    "sw = stopwords.words('english')\n",
    "filtered_text = [w for w in prepared_text if w not in sw]\n",
    "# считаем абсолютную частоту\n",
    "counts = {}\n",
    "for word in filtered_text:\n",
    "    counts[word] = counts.get(word, 0) + 1\n",
    "sorted_counts = sorted(counts.items(), key=lambda x: x[1], reverse=True)\n",
    "# строим график\n",
    "# создаем набор значений (подписи слов и его позиция в частотном списке)\n",
    "X = []\n",
    "os_X = []\n",
    "Y = []\n",
    "i = 0\n",
    "for x in sorted_counts[:30]:\n",
    "    os_X.append(x[0]) # добавляем слово в список названий по оси Х\n",
    "    i += 1 \n",
    "    X.append(i) # добавляем номер слова в список значений по оси X\n",
    "    Y.append(x[1]) # добавляем абсолютную частотность слова в список значений по оси Y\n",
    "plt.xticks(X, os_X, rotation=90)\n",
    "plt.title(\"30 most frequent words in Harry Potter\")\n",
    "plt.xlabel(\"Words\")\n",
    "plt.ylabel(\"Quantity\")\n",
    "plt.bar(X, Y)\n",
    "plt.show()\n"
   ]
  },
  {
   "cell_type": "code",
   "execution_count": null,
   "metadata": {},
   "outputs": [],
   "source": []
  }
 ],
 "metadata": {
  "kernelspec": {
   "display_name": "Python 3",
   "language": "python",
   "name": "python3"
  },
  "language_info": {
   "codemirror_mode": {
    "name": "ipython",
    "version": 3
   },
   "file_extension": ".py",
   "mimetype": "text/x-python",
   "name": "python",
   "nbconvert_exporter": "python",
   "pygments_lexer": "ipython3",
   "version": "3.6.5"
  }
 },
 "nbformat": 4,
 "nbformat_minor": 2
}
